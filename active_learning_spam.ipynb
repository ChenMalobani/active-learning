{
 "cells": [
  {
   "cell_type": "markdown",
   "metadata": {},
   "source": [
    "# Identify Spam in SMS Using Active Learning\n",
    "This notebook is the 2nd and final part in a series analyzing the effect of Active Learning on classification tasks.\n",
    "\n",
    "In the previous notebook, we've used the MNIST dataset.  \n",
    "In this notebook, we'll use a dataset labeling SMS as spam/ham.  \n",
    "The dataset is available for download at http://archive.ics.uci.edu/ml/datasets/SMS+Spam+Collection."
   ]
  },
  {
   "cell_type": "code",
   "execution_count": 1,
   "metadata": {
    "ExecuteTime": {
     "end_time": "2018-05-26T11:31:20.003105Z",
     "start_time": "2018-05-26T11:31:19.236091Z"
    }
   },
   "outputs": [],
   "source": [
    "import numpy as np\n",
    "import pandas as pd\n",
    "import matplotlib.pyplot as plt\n",
    "import seaborn as sns\n",
    "%matplotlib inline"
   ]
  },
  {
   "cell_type": "code",
   "execution_count": 2,
   "metadata": {
    "ExecuteTime": {
     "end_time": "2018-05-26T11:31:20.206090Z",
     "start_time": "2018-05-26T11:31:20.005091Z"
    }
   },
   "outputs": [
    {
     "ename": "FileNotFoundError",
     "evalue": "File b'SMSSpamCollection' does not exist",
     "output_type": "error",
     "traceback": [
      "\u001b[1;31m---------------------------------------------------------------------------\u001b[0m",
      "\u001b[1;31mFileNotFoundError\u001b[0m                         Traceback (most recent call last)",
      "\u001b[1;32m<ipython-input-2-9e6b2e1f1604>\u001b[0m in \u001b[0;36m<module>\u001b[1;34m()\u001b[0m\n\u001b[0;32m      1\u001b[0m \u001b[1;31m# Read data into a DataFrame\u001b[0m\u001b[1;33m\u001b[0m\u001b[1;33m\u001b[0m\u001b[0m\n\u001b[1;32m----> 2\u001b[1;33m \u001b[0mdf\u001b[0m \u001b[1;33m=\u001b[0m \u001b[0mpd\u001b[0m\u001b[1;33m.\u001b[0m\u001b[0mread_table\u001b[0m\u001b[1;33m(\u001b[0m\u001b[1;34m'SMSSpamCollection'\u001b[0m\u001b[1;33m,\u001b[0m \u001b[0mnames\u001b[0m\u001b[1;33m=\u001b[0m\u001b[1;33m[\u001b[0m\u001b[1;34m'y'\u001b[0m\u001b[1;33m,\u001b[0m \u001b[1;34m'text'\u001b[0m\u001b[1;33m]\u001b[0m\u001b[1;33m)\u001b[0m\u001b[1;33m\u001b[0m\u001b[0m\n\u001b[0m\u001b[0;32m      3\u001b[0m \u001b[0mdf\u001b[0m \u001b[1;33m=\u001b[0m \u001b[0mdf\u001b[0m\u001b[1;33m.\u001b[0m\u001b[0msample\u001b[0m\u001b[1;33m(\u001b[0m\u001b[0mfrac\u001b[0m\u001b[1;33m=\u001b[0m\u001b[1;36m1\u001b[0m\u001b[1;33m)\u001b[0m\u001b[1;33m\u001b[0m\u001b[0m\n\u001b[0;32m      4\u001b[0m \u001b[0mdf\u001b[0m\u001b[1;33m.\u001b[0m\u001b[0mhead\u001b[0m\u001b[1;33m(\u001b[0m\u001b[1;33m)\u001b[0m\u001b[1;33m\u001b[0m\u001b[0m\n",
      "\u001b[1;32m~\\Anaconda3\\lib\\site-packages\\pandas\\io\\parsers.py\u001b[0m in \u001b[0;36mparser_f\u001b[1;34m(filepath_or_buffer, sep, delimiter, header, names, index_col, usecols, squeeze, prefix, mangle_dupe_cols, dtype, engine, converters, true_values, false_values, skipinitialspace, skiprows, nrows, na_values, keep_default_na, na_filter, verbose, skip_blank_lines, parse_dates, infer_datetime_format, keep_date_col, date_parser, dayfirst, iterator, chunksize, compression, thousands, decimal, lineterminator, quotechar, quoting, escapechar, comment, encoding, dialect, tupleize_cols, error_bad_lines, warn_bad_lines, skipfooter, skip_footer, doublequote, delim_whitespace, as_recarray, compact_ints, use_unsigned, low_memory, buffer_lines, memory_map, float_precision)\u001b[0m\n\u001b[0;32m    703\u001b[0m                     skip_blank_lines=skip_blank_lines)\n\u001b[0;32m    704\u001b[0m \u001b[1;33m\u001b[0m\u001b[0m\n\u001b[1;32m--> 705\u001b[1;33m         \u001b[1;32mreturn\u001b[0m \u001b[0m_read\u001b[0m\u001b[1;33m(\u001b[0m\u001b[0mfilepath_or_buffer\u001b[0m\u001b[1;33m,\u001b[0m \u001b[0mkwds\u001b[0m\u001b[1;33m)\u001b[0m\u001b[1;33m\u001b[0m\u001b[0m\n\u001b[0m\u001b[0;32m    706\u001b[0m \u001b[1;33m\u001b[0m\u001b[0m\n\u001b[0;32m    707\u001b[0m     \u001b[0mparser_f\u001b[0m\u001b[1;33m.\u001b[0m\u001b[0m__name__\u001b[0m \u001b[1;33m=\u001b[0m \u001b[0mname\u001b[0m\u001b[1;33m\u001b[0m\u001b[0m\n",
      "\u001b[1;32m~\\Anaconda3\\lib\\site-packages\\pandas\\io\\parsers.py\u001b[0m in \u001b[0;36m_read\u001b[1;34m(filepath_or_buffer, kwds)\u001b[0m\n\u001b[0;32m    443\u001b[0m \u001b[1;33m\u001b[0m\u001b[0m\n\u001b[0;32m    444\u001b[0m     \u001b[1;31m# Create the parser.\u001b[0m\u001b[1;33m\u001b[0m\u001b[1;33m\u001b[0m\u001b[0m\n\u001b[1;32m--> 445\u001b[1;33m     \u001b[0mparser\u001b[0m \u001b[1;33m=\u001b[0m \u001b[0mTextFileReader\u001b[0m\u001b[1;33m(\u001b[0m\u001b[0mfilepath_or_buffer\u001b[0m\u001b[1;33m,\u001b[0m \u001b[1;33m**\u001b[0m\u001b[0mkwds\u001b[0m\u001b[1;33m)\u001b[0m\u001b[1;33m\u001b[0m\u001b[0m\n\u001b[0m\u001b[0;32m    446\u001b[0m \u001b[1;33m\u001b[0m\u001b[0m\n\u001b[0;32m    447\u001b[0m     \u001b[1;32mif\u001b[0m \u001b[0mchunksize\u001b[0m \u001b[1;32mor\u001b[0m \u001b[0miterator\u001b[0m\u001b[1;33m:\u001b[0m\u001b[1;33m\u001b[0m\u001b[0m\n",
      "\u001b[1;32m~\\Anaconda3\\lib\\site-packages\\pandas\\io\\parsers.py\u001b[0m in \u001b[0;36m__init__\u001b[1;34m(self, f, engine, **kwds)\u001b[0m\n\u001b[0;32m    812\u001b[0m             \u001b[0mself\u001b[0m\u001b[1;33m.\u001b[0m\u001b[0moptions\u001b[0m\u001b[1;33m[\u001b[0m\u001b[1;34m'has_index_names'\u001b[0m\u001b[1;33m]\u001b[0m \u001b[1;33m=\u001b[0m \u001b[0mkwds\u001b[0m\u001b[1;33m[\u001b[0m\u001b[1;34m'has_index_names'\u001b[0m\u001b[1;33m]\u001b[0m\u001b[1;33m\u001b[0m\u001b[0m\n\u001b[0;32m    813\u001b[0m \u001b[1;33m\u001b[0m\u001b[0m\n\u001b[1;32m--> 814\u001b[1;33m         \u001b[0mself\u001b[0m\u001b[1;33m.\u001b[0m\u001b[0m_make_engine\u001b[0m\u001b[1;33m(\u001b[0m\u001b[0mself\u001b[0m\u001b[1;33m.\u001b[0m\u001b[0mengine\u001b[0m\u001b[1;33m)\u001b[0m\u001b[1;33m\u001b[0m\u001b[0m\n\u001b[0m\u001b[0;32m    815\u001b[0m \u001b[1;33m\u001b[0m\u001b[0m\n\u001b[0;32m    816\u001b[0m     \u001b[1;32mdef\u001b[0m \u001b[0mclose\u001b[0m\u001b[1;33m(\u001b[0m\u001b[0mself\u001b[0m\u001b[1;33m)\u001b[0m\u001b[1;33m:\u001b[0m\u001b[1;33m\u001b[0m\u001b[0m\n",
      "\u001b[1;32m~\\Anaconda3\\lib\\site-packages\\pandas\\io\\parsers.py\u001b[0m in \u001b[0;36m_make_engine\u001b[1;34m(self, engine)\u001b[0m\n\u001b[0;32m   1043\u001b[0m     \u001b[1;32mdef\u001b[0m \u001b[0m_make_engine\u001b[0m\u001b[1;33m(\u001b[0m\u001b[0mself\u001b[0m\u001b[1;33m,\u001b[0m \u001b[0mengine\u001b[0m\u001b[1;33m=\u001b[0m\u001b[1;34m'c'\u001b[0m\u001b[1;33m)\u001b[0m\u001b[1;33m:\u001b[0m\u001b[1;33m\u001b[0m\u001b[0m\n\u001b[0;32m   1044\u001b[0m         \u001b[1;32mif\u001b[0m \u001b[0mengine\u001b[0m \u001b[1;33m==\u001b[0m \u001b[1;34m'c'\u001b[0m\u001b[1;33m:\u001b[0m\u001b[1;33m\u001b[0m\u001b[0m\n\u001b[1;32m-> 1045\u001b[1;33m             \u001b[0mself\u001b[0m\u001b[1;33m.\u001b[0m\u001b[0m_engine\u001b[0m \u001b[1;33m=\u001b[0m \u001b[0mCParserWrapper\u001b[0m\u001b[1;33m(\u001b[0m\u001b[0mself\u001b[0m\u001b[1;33m.\u001b[0m\u001b[0mf\u001b[0m\u001b[1;33m,\u001b[0m \u001b[1;33m**\u001b[0m\u001b[0mself\u001b[0m\u001b[1;33m.\u001b[0m\u001b[0moptions\u001b[0m\u001b[1;33m)\u001b[0m\u001b[1;33m\u001b[0m\u001b[0m\n\u001b[0m\u001b[0;32m   1046\u001b[0m         \u001b[1;32melse\u001b[0m\u001b[1;33m:\u001b[0m\u001b[1;33m\u001b[0m\u001b[0m\n\u001b[0;32m   1047\u001b[0m             \u001b[1;32mif\u001b[0m \u001b[0mengine\u001b[0m \u001b[1;33m==\u001b[0m \u001b[1;34m'python'\u001b[0m\u001b[1;33m:\u001b[0m\u001b[1;33m\u001b[0m\u001b[0m\n",
      "\u001b[1;32m~\\Anaconda3\\lib\\site-packages\\pandas\\io\\parsers.py\u001b[0m in \u001b[0;36m__init__\u001b[1;34m(self, src, **kwds)\u001b[0m\n\u001b[0;32m   1682\u001b[0m         \u001b[0mkwds\u001b[0m\u001b[1;33m[\u001b[0m\u001b[1;34m'allow_leading_cols'\u001b[0m\u001b[1;33m]\u001b[0m \u001b[1;33m=\u001b[0m \u001b[0mself\u001b[0m\u001b[1;33m.\u001b[0m\u001b[0mindex_col\u001b[0m \u001b[1;32mis\u001b[0m \u001b[1;32mnot\u001b[0m \u001b[1;32mFalse\u001b[0m\u001b[1;33m\u001b[0m\u001b[0m\n\u001b[0;32m   1683\u001b[0m \u001b[1;33m\u001b[0m\u001b[0m\n\u001b[1;32m-> 1684\u001b[1;33m         \u001b[0mself\u001b[0m\u001b[1;33m.\u001b[0m\u001b[0m_reader\u001b[0m \u001b[1;33m=\u001b[0m \u001b[0mparsers\u001b[0m\u001b[1;33m.\u001b[0m\u001b[0mTextReader\u001b[0m\u001b[1;33m(\u001b[0m\u001b[0msrc\u001b[0m\u001b[1;33m,\u001b[0m \u001b[1;33m**\u001b[0m\u001b[0mkwds\u001b[0m\u001b[1;33m)\u001b[0m\u001b[1;33m\u001b[0m\u001b[0m\n\u001b[0m\u001b[0;32m   1685\u001b[0m \u001b[1;33m\u001b[0m\u001b[0m\n\u001b[0;32m   1686\u001b[0m         \u001b[1;31m# XXX\u001b[0m\u001b[1;33m\u001b[0m\u001b[1;33m\u001b[0m\u001b[0m\n",
      "\u001b[1;32mpandas/_libs/parsers.pyx\u001b[0m in \u001b[0;36mpandas._libs.parsers.TextReader.__cinit__\u001b[1;34m()\u001b[0m\n",
      "\u001b[1;32mpandas/_libs/parsers.pyx\u001b[0m in \u001b[0;36mpandas._libs.parsers.TextReader._setup_parser_source\u001b[1;34m()\u001b[0m\n",
      "\u001b[1;31mFileNotFoundError\u001b[0m: File b'SMSSpamCollection' does not exist"
     ]
    }
   ],
   "source": [
    "# Read data into a DataFrame\n",
    "df = pd.read_table('SMSSpamCollection', names=['y', 'text'])\n",
    "df = df.sample(frac=1)\n",
    "df.head()"
   ]
  },
  {
   "cell_type": "code",
   "execution_count": 3,
   "metadata": {},
   "outputs": [
    {
     "data": {
      "text/html": [
       "<div>\n",
       "<style scoped>\n",
       "    .dataframe tbody tr th:only-of-type {\n",
       "        vertical-align: middle;\n",
       "    }\n",
       "\n",
       "    .dataframe tbody tr th {\n",
       "        vertical-align: top;\n",
       "    }\n",
       "\n",
       "    .dataframe thead tr th {\n",
       "        text-align: left;\n",
       "    }\n",
       "\n",
       "    .dataframe thead tr:last-of-type th {\n",
       "        text-align: right;\n",
       "    }\n",
       "</style>\n",
       "<table border=\"1\" class=\"dataframe\">\n",
       "  <thead>\n",
       "    <tr>\n",
       "      <th></th>\n",
       "      <th colspan=\"4\" halign=\"left\">text</th>\n",
       "    </tr>\n",
       "    <tr>\n",
       "      <th></th>\n",
       "      <th>count</th>\n",
       "      <th>unique</th>\n",
       "      <th>top</th>\n",
       "      <th>freq</th>\n",
       "    </tr>\n",
       "    <tr>\n",
       "      <th>y</th>\n",
       "      <th></th>\n",
       "      <th></th>\n",
       "      <th></th>\n",
       "      <th></th>\n",
       "    </tr>\n",
       "  </thead>\n",
       "  <tbody>\n",
       "    <tr>\n",
       "      <th>ham</th>\n",
       "      <td>4825</td>\n",
       "      <td>4516</td>\n",
       "      <td>Sorry, I'll call later</td>\n",
       "      <td>30</td>\n",
       "    </tr>\n",
       "    <tr>\n",
       "      <th>spam</th>\n",
       "      <td>747</td>\n",
       "      <td>653</td>\n",
       "      <td>Please call our customer service representativ...</td>\n",
       "      <td>4</td>\n",
       "    </tr>\n",
       "  </tbody>\n",
       "</table>\n",
       "</div>"
      ],
      "text/plain": [
       "      text                                                               \n",
       "     count unique                                                top freq\n",
       "y                                                                        \n",
       "ham   4825   4516                             Sorry, I'll call later   30\n",
       "spam   747    653  Please call our customer service representativ...    4"
      ]
     },
     "execution_count": 3,
     "metadata": {},
     "output_type": "execute_result"
    }
   ],
   "source": [
    "# Let's get basic summary statistics\n",
    "df.groupby('y').describe()"
   ]
  },
  {
   "cell_type": "markdown",
   "metadata": {},
   "source": [
    "### Analyzing a basic Classifier\n",
    "Let's build a simple classifier.  \n",
    "We first split our data into train (80%) and test (20%) sets.  \n",
    "\n",
    "Our model will perform the following steps:\n",
    "1. Remove stopwords\n",
    "1. Count word occurrences\n",
    "1. Perform Tf-Idf transformation on counts\n",
    "1. Use a Multinomial Naive-Bayes classifier"
   ]
  },
  {
   "cell_type": "code",
   "execution_count": 4,
   "metadata": {},
   "outputs": [],
   "source": [
    "# Split data to train and test sets\n",
    "from sklearn.model_selection import train_test_split\n",
    "X_train, X_test, y_train, y_test = train_test_split(df['text'], df['y'], test_size=0.20, random_state=0)"
   ]
  },
  {
   "cell_type": "code",
   "execution_count": 5,
   "metadata": {},
   "outputs": [],
   "source": [
    "from sklearn.feature_extraction.text import CountVectorizer\n",
    "from sklearn.feature_extraction.text import TfidfTransformer\n",
    "from sklearn.naive_bayes import MultinomialNB\n",
    "from sklearn.pipeline import Pipeline\n",
    "\n",
    "model = Pipeline([('vect', CountVectorizer(stop_words='english')),\n",
    "                     ('tfidf', TfidfTransformer()),\n",
    "                     ('clf', MultinomialNB()),\n",
    "])"
   ]
  },
  {
   "cell_type": "code",
   "execution_count": 6,
   "metadata": {},
   "outputs": [
    {
     "data": {
      "text/plain": [
       "Pipeline(memory=None,\n",
       "     steps=[('vect', CountVectorizer(analyzer='word', binary=False, decode_error='strict',\n",
       "        dtype=<class 'numpy.int64'>, encoding='utf-8', input='content',\n",
       "        lowercase=True, max_df=1.0, max_features=None, min_df=1,\n",
       "        ngram_range=(1, 1), preprocessor=None, stop_words='english',\n",
       "        ...inear_tf=False, use_idf=True)), ('clf', MultinomialNB(alpha=1.0, class_prior=None, fit_prior=True))])"
      ]
     },
     "execution_count": 6,
     "metadata": {},
     "output_type": "execute_result"
    }
   ],
   "source": [
    "# Fit the model on our train set\n",
    "model.fit(X_train, y_train)"
   ]
  },
  {
   "cell_type": "markdown",
   "metadata": {},
   "source": [
    "### Evaluate Model Performance"
   ]
  },
  {
   "cell_type": "code",
   "execution_count": 7,
   "metadata": {},
   "outputs": [
    {
     "data": {
      "text/plain": [
       "Pipeline(memory=None,\n",
       "     steps=[('vect', CountVectorizer(analyzer='word', binary=False, decode_error='strict',\n",
       "        dtype=<class 'numpy.int64'>, encoding='utf-8', input='content',\n",
       "        lowercase=True, max_df=1.0, max_features=None, min_df=1,\n",
       "        ngram_range=(1, 1), preprocessor=None, stop_words='english',\n",
       "        ...inear_tf=False, use_idf=True)), ('clf', MultinomialNB(alpha=1.0, class_prior=None, fit_prior=True))])"
      ]
     },
     "execution_count": 7,
     "metadata": {},
     "output_type": "execute_result"
    }
   ],
   "source": [
    "model.fit(X_train, y_train)"
   ]
  },
  {
   "cell_type": "code",
   "execution_count": 8,
   "metadata": {},
   "outputs": [],
   "source": [
    "from sklearn.metrics import precision_recall_fscore_support\n",
    "from sklearn.metrics import accuracy_score\n",
    "from sklearn.metrics import confusion_matrix\n",
    "from sklearn.metrics import classification_report, f1_score"
   ]
  },
  {
   "cell_type": "code",
   "execution_count": 9,
   "metadata": {},
   "outputs": [
    {
     "name": "stdout",
     "output_type": "stream",
     "text": [
      "             precision    recall  f1-score   support\n",
      "\n",
      "        ham       0.98      1.00      0.99      3860\n",
      "       spam       1.00      0.87      0.93       597\n",
      "\n",
      "avg / total       0.98      0.98      0.98      4457\n",
      "\n"
     ]
    }
   ],
   "source": [
    "print(classification_report(y_true=y_train,y_pred=model.predict(X_train)))"
   ]
  },
  {
   "cell_type": "code",
   "execution_count": 10,
   "metadata": {},
   "outputs": [
    {
     "name": "stdout",
     "output_type": "stream",
     "text": [
      "             precision    recall  f1-score   support\n",
      "\n",
      "        ham       0.97      1.00      0.98       965\n",
      "       spam       1.00      0.79      0.88       150\n",
      "\n",
      "avg / total       0.97      0.97      0.97      1115\n",
      "\n"
     ]
    }
   ],
   "source": [
    "print(classification_report(y_true=y_test,y_pred=model.predict(X_test)))"
   ]
  },
  {
   "cell_type": "code",
   "execution_count": 11,
   "metadata": {},
   "outputs": [
    {
     "name": "stdout",
     "output_type": "stream",
     "text": [
      "0.932143563527926\n"
     ]
    }
   ],
   "source": [
    "print(f1_score(y_true=y_test,y_pred=model.predict(X_test), average='macro'))"
   ]
  },
  {
   "cell_type": "markdown",
   "metadata": {},
   "source": [
    "### Plot model confidence\n",
    "Let's plot the confidence level of our model for different samples:"
   ]
  },
  {
   "cell_type": "code",
   "execution_count": 12,
   "metadata": {},
   "outputs": [
    {
     "data": {
      "image/png": "[encoded data removed]",
      "text/plain": [
       "<matplotlib.figure.Figure at 0x22771c21a20>"
      ]
     },
     "metadata": {},
     "output_type": "display_data"
    }
   ],
   "source": [
    "predicted_probabilities = np.max(model.predict_proba(X_test), axis=1)\n",
    "sorted_predicted_probabilities_indices = np.argsort(predicted_probabilities)\n",
    "\n",
    "plt.plot(sorted(predicted_probabilities))\n",
    "plt.xlabel('Sample Index (sorted according to confidence)');\n",
    "plt.ylabel('Confidence');"
   ]
  },
  {
   "cell_type": "markdown",
   "metadata": {},
   "source": [
    "We can see that while the model is very confident for most of the samples, there are about 100 samples (~10%) with low confidence.  \n",
    "\n",
    "Note that we define confidence as the prediction probability of the predicted class.  \n",
    "Since there are only 2 classes, the minimal value of confidence in this case is 0.5."
   ]
  },
  {
   "cell_type": "markdown",
   "metadata": {},
   "source": [
    "Next, let's review some of examples that got the lowest confidence.  \n",
    "We can see that in many of these cases, our model misclassifies them."
   ]
  },
  {
   "cell_type": "code",
   "execution_count": 13,
   "metadata": {
    "scrolled": true
   },
   "outputs": [
    {
     "data": {
      "text/html": [
       "<div>\n",
       "<style scoped>\n",
       "    .dataframe tbody tr th:only-of-type {\n",
       "        vertical-align: middle;\n",
       "    }\n",
       "\n",
       "    .dataframe tbody tr th {\n",
       "        vertical-align: top;\n",
       "    }\n",
       "\n",
       "    .dataframe thead th {\n",
       "        text-align: right;\n",
       "    }\n",
       "</style>\n",
       "<table border=\"1\" class=\"dataframe\">\n",
       "  <thead>\n",
       "    <tr style=\"text-align: right;\">\n",
       "      <th></th>\n",
       "      <th>y</th>\n",
       "      <th>prediction</th>\n",
       "      <th>text</th>\n",
       "    </tr>\n",
       "  </thead>\n",
       "  <tbody>\n",
       "    <tr>\n",
       "      <th>0</th>\n",
       "      <td>ham</td>\n",
       "      <td>ham</td>\n",
       "      <td>Yavnt tried yet and never played original either</td>\n",
       "    </tr>\n",
       "    <tr>\n",
       "      <th>1</th>\n",
       "      <td>spam</td>\n",
       "      <td>spam</td>\n",
       "      <td>I'd like to tell you my deepest darkest fantas...</td>\n",
       "    </tr>\n",
       "    <tr>\n",
       "      <th>2</th>\n",
       "      <td>spam</td>\n",
       "      <td>spam</td>\n",
       "      <td>RECPT 1/3. You have ordered a Ringtone. Your o...</td>\n",
       "    </tr>\n",
       "    <tr>\n",
       "      <th>3</th>\n",
       "      <td>spam</td>\n",
       "      <td>spam</td>\n",
       "      <td>Boltblue tones for 150p Reply POLY# or MONO# e...</td>\n",
       "    </tr>\n",
       "    <tr>\n",
       "      <th>4</th>\n",
       "      <td>spam</td>\n",
       "      <td>ham</td>\n",
       "      <td>Bears Pic Nick, and Tom, Pete and ... Dick. In...</td>\n",
       "    </tr>\n",
       "    <tr>\n",
       "      <th>5</th>\n",
       "      <td>spam</td>\n",
       "      <td>ham</td>\n",
       "      <td>Hottest pics straight to your phone!! See me g...</td>\n",
       "    </tr>\n",
       "    <tr>\n",
       "      <th>6</th>\n",
       "      <td>spam</td>\n",
       "      <td>spam</td>\n",
       "      <td>FREE2DAY sexy St George's Day pic of Jordan!Tx...</td>\n",
       "    </tr>\n",
       "    <tr>\n",
       "      <th>7</th>\n",
       "      <td>spam</td>\n",
       "      <td>ham</td>\n",
       "      <td>Reply with your name and address and YOU WILL ...</td>\n",
       "    </tr>\n",
       "    <tr>\n",
       "      <th>8</th>\n",
       "      <td>spam</td>\n",
       "      <td>spam</td>\n",
       "      <td>For taking part in our mobile survey yesterday...</td>\n",
       "    </tr>\n",
       "    <tr>\n",
       "      <th>9</th>\n",
       "      <td>spam</td>\n",
       "      <td>spam</td>\n",
       "      <td>Bloomberg -Message center +447797706009 Why wa...</td>\n",
       "    </tr>\n",
       "    <tr>\n",
       "      <th>10</th>\n",
       "      <td>spam</td>\n",
       "      <td>ham</td>\n",
       "      <td>BangBabes Ur order is on the way. U SHOULD rec...</td>\n",
       "    </tr>\n",
       "    <tr>\n",
       "      <th>11</th>\n",
       "      <td>spam</td>\n",
       "      <td>ham</td>\n",
       "      <td>money!!! you r a lucky winner ! 2 claim your p...</td>\n",
       "    </tr>\n",
       "    <tr>\n",
       "      <th>12</th>\n",
       "      <td>spam</td>\n",
       "      <td>ham</td>\n",
       "      <td>Free-message: Jamster!Get the crazy frog sound...</td>\n",
       "    </tr>\n",
       "    <tr>\n",
       "      <th>13</th>\n",
       "      <td>spam</td>\n",
       "      <td>ham</td>\n",
       "      <td>tddnewsletter@emc1.co.uk (More games from TheD...</td>\n",
       "    </tr>\n",
       "    <tr>\n",
       "      <th>14</th>\n",
       "      <td>spam</td>\n",
       "      <td>spam</td>\n",
       "      <td>Guess what! Somebody you know secretly fancies...</td>\n",
       "    </tr>\n",
       "    <tr>\n",
       "      <th>15</th>\n",
       "      <td>spam</td>\n",
       "      <td>spam</td>\n",
       "      <td>U have a secret admirer who is looking 2 make ...</td>\n",
       "    </tr>\n",
       "    <tr>\n",
       "      <th>16</th>\n",
       "      <td>spam</td>\n",
       "      <td>ham</td>\n",
       "      <td>88800 and 89034 are premium phone services cal...</td>\n",
       "    </tr>\n",
       "    <tr>\n",
       "      <th>17</th>\n",
       "      <td>ham</td>\n",
       "      <td>ham</td>\n",
       "      <td>K k:) sms chat with me.</td>\n",
       "    </tr>\n",
       "    <tr>\n",
       "      <th>18</th>\n",
       "      <td>spam</td>\n",
       "      <td>spam</td>\n",
       "      <td>&lt;Forwarded from 21870000&gt;Hi - this is your Mai...</td>\n",
       "    </tr>\n",
       "    <tr>\n",
       "      <th>19</th>\n",
       "      <td>spam</td>\n",
       "      <td>ham</td>\n",
       "      <td>Call Germany for only 1 pence per minute! Call...</td>\n",
       "    </tr>\n",
       "  </tbody>\n",
       "</table>\n",
       "</div>"
      ],
      "text/plain": [
       "       y prediction                                               text\n",
       "0    ham        ham   Yavnt tried yet and never played original either\n",
       "1   spam       spam  I'd like to tell you my deepest darkest fantas...\n",
       "2   spam       spam  RECPT 1/3. You have ordered a Ringtone. Your o...\n",
       "3   spam       spam  Boltblue tones for 150p Reply POLY# or MONO# e...\n",
       "4   spam        ham  Bears Pic Nick, and Tom, Pete and ... Dick. In...\n",
       "5   spam        ham  Hottest pics straight to your phone!! See me g...\n",
       "6   spam       spam  FREE2DAY sexy St George's Day pic of Jordan!Tx...\n",
       "7   spam        ham  Reply with your name and address and YOU WILL ...\n",
       "8   spam       spam  For taking part in our mobile survey yesterday...\n",
       "9   spam       spam  Bloomberg -Message center +447797706009 Why wa...\n",
       "10  spam        ham  BangBabes Ur order is on the way. U SHOULD rec...\n",
       "11  spam        ham  money!!! you r a lucky winner ! 2 claim your p...\n",
       "12  spam        ham  Free-message: Jamster!Get the crazy frog sound...\n",
       "13  spam        ham  tddnewsletter@emc1.co.uk (More games from TheD...\n",
       "14  spam       spam  Guess what! Somebody you know secretly fancies...\n",
       "15  spam       spam  U have a secret admirer who is looking 2 make ...\n",
       "16  spam        ham  88800 and 89034 are premium phone services cal...\n",
       "17   ham        ham                            K k:) sms chat with me.\n",
       "18  spam       spam  <Forwarded from 21870000>Hi - this is your Mai...\n",
       "19  spam        ham  Call Germany for only 1 pence per minute! Call..."
      ]
     },
     "execution_count": 13,
     "metadata": {},
     "output_type": "execute_result"
    }
   ],
   "source": [
    "examples = [(y_test.iloc[x], model.predict([X_test.iloc[x]])[0], X_test.iloc[x]) for x in sorted_predicted_probabilities_indices[:20]]\n",
    "pd.DataFrame(examples, columns=['y', 'prediction', 'text'])"
   ]
  },
  {
   "cell_type": "code",
   "execution_count": 38,
   "metadata": {},
   "outputs": [],
   "source": []
  },
  {
   "cell_type": "code",
   "execution_count": 42,
   "metadata": {},
   "outputs": [
    {
     "data": {
      "text/plain": [
       "Text(0,0.5,'Average accuracy')"
      ]
     },
     "execution_count": 42,
     "metadata": {},
     "output_type": "execute_result"
    },
    {
     "data": {
      "image/png": "[encoded data removed]",
      "text/plain": [
       "<matplotlib.figure.Figure at 0x2a80fe754a8>"
      ]
     },
     "metadata": {},
     "output_type": "display_data"
    }
   ],
   "source": [
    "is_correct = (y_test == model.predict(X_test))\n",
    "ax = sns.regplot(x=predicted_probabilities, y=is_correct, x_bins=20)\n",
    "# ax = sns.regplot(x=predicted_probabilities, y=is_correct, x_bins=np.arange(0.1,1,.05))\n",
    "plt.xlabel('Model Confidence')\n",
    "plt.ylabel('Average accuracy')"
   ]
  },
  {
   "cell_type": "code",
   "execution_count": null,
   "metadata": {},
   "outputs": [],
   "source": []
  },
  {
   "cell_type": "markdown",
   "metadata": {},
   "source": [
    "### Learning Curve"
   ]
  },
  {
   "cell_type": "code",
   "execution_count": 49,
   "metadata": {},
   "outputs": [
    {
     "name": "stderr",
     "output_type": "stream",
     "text": [
      "C:\\ProgramData\\Anaconda3\\lib\\site-packages\\sklearn\\naive_bayes.py:461: RuntimeWarning: divide by zero encountered in log\n",
      "  self.class_log_prior_ = (np.log(self.class_count_) -\n",
      "C:\\ProgramData\\Anaconda3\\lib\\site-packages\\sklearn\\metrics\\classification.py:1135: UndefinedMetricWarning: F-score is ill-defined and being set to 0.0 in labels with no predicted samples.\n",
      "  'precision', 'predicted', average, warn_for)\n",
      "C:\\ProgramData\\Anaconda3\\lib\\site-packages\\sklearn\\metrics\\classification.py:1135: UndefinedMetricWarning: F-score is ill-defined and being set to 0.0 in labels with no predicted samples.\n",
      "  'precision', 'predicted', average, warn_for)\n",
      "C:\\ProgramData\\Anaconda3\\lib\\site-packages\\sklearn\\metrics\\classification.py:1135: UndefinedMetricWarning: F-score is ill-defined and being set to 0.0 in labels with no predicted samples.\n",
      "  'precision', 'predicted', average, warn_for)\n",
      "C:\\ProgramData\\Anaconda3\\lib\\site-packages\\sklearn\\metrics\\classification.py:1135: UndefinedMetricWarning: F-score is ill-defined and being set to 0.0 in labels with no predicted samples.\n",
      "  'precision', 'predicted', average, warn_for)\n",
      "C:\\ProgramData\\Anaconda3\\lib\\site-packages\\sklearn\\metrics\\classification.py:1135: UndefinedMetricWarning: F-score is ill-defined and being set to 0.0 in labels with no predicted samples.\n",
      "  'precision', 'predicted', average, warn_for)\n",
      "C:\\ProgramData\\Anaconda3\\lib\\site-packages\\sklearn\\metrics\\classification.py:1135: UndefinedMetricWarning: F-score is ill-defined and being set to 0.0 in labels with no predicted samples.\n",
      "  'precision', 'predicted', average, warn_for)\n",
      "C:\\ProgramData\\Anaconda3\\lib\\site-packages\\sklearn\\metrics\\classification.py:1135: UndefinedMetricWarning: F-score is ill-defined and being set to 0.0 in labels with no predicted samples.\n",
      "  'precision', 'predicted', average, warn_for)\n"
     ]
    }
   ],
   "source": [
    "train_set_size_list = [10,20,30,40,50,75,100,150,200,250,300,350,400,450] + list(np.arange(500,1500,100)) + list(np.arange(1700,5000,250)) + list(np.arange(5500,10000,500))\n",
    "history = []\n",
    "\n",
    "for train_set_size in train_set_size_list:\n",
    "    model = Pipeline([('vect', CountVectorizer(stop_words='english')),\n",
    "                         ('tfidf', TfidfTransformer()),\n",
    "                         ('clf', MultinomialNB()),\n",
    "    ])\n",
    "\n",
    "    labeled_instances = X_train[:train_set_size]\n",
    "    y_labeled_instances = y_train[:train_set_size]\n",
    "    model.fit(labeled_instances, y_labeled_instances)\n",
    "    \n",
    "    history.append({\"num_labels\": len(labeled_instances),\n",
    "                \"labels\": labeled_instances,\n",
    "                \"model\": model,\n",
    "                \"accuracy_labeled_instances\": accuracy_score(y_true=y_labeled_instances,y_pred=model.predict(labeled_instances)),\n",
    "                \"f1_labeled_instances\": f1_score(y_true=y_labeled_instances,y_pred=model.predict(labeled_instances), average='macro'),\n",
    "                \"accuracy\": accuracy_score(y_true=y_test,y_pred=model.predict(X_test)),\n",
    "                \"f1\": f1_score(y_true=y_test,y_pred=model.predict(X_test), average='macro'),\n",
    "               })\n"
   ]
  },
  {
   "cell_type": "code",
   "execution_count": 53,
   "metadata": {},
   "outputs": [],
   "source": [
    "df['X'] = df['text']"
   ]
  },
  {
   "cell_type": "code",
   "execution_count": 57,
   "metadata": {},
   "outputs": [],
   "source": [
    "def run_active_learner(df, model, num_samples_in_active_learning_batch, select_next_batch_func):\n",
    "    al_history = []\n",
    "    labeled = pd.DataFrame([])\n",
    "\n",
    "    # We first mark all data points as unused. We'll update this column whenever we already used a data point.\n",
    "    df['used']= False\n",
    "    df['confidence'] = 0\n",
    "\n",
    "    df = df.sample(frac=1)\n",
    "    X_all = np.array(df['X'].tolist())\n",
    "\n",
    "    for current_batch_size in num_samples_in_active_learning_batch:\n",
    "        next_labels = select_next_batch_func(df, current_batch_size)\n",
    "\n",
    "        next_label_indices = next_labels.index\n",
    "        df.loc[next_label_indices, 'used'] = True\n",
    "\n",
    "        labeled = labeled.append(next_labels)\n",
    "        next_labels['step'] = len(labeled)\n",
    "\n",
    "        X_labeled = np.array(labeled['X'].tolist())\n",
    "\n",
    "        print('fitting a model for {} labeled instances...'.format(len(labeled)))\n",
    "\n",
    "        model.fit(X_labeled, y=labeled['y'].values)\n",
    "\n",
    "        probs = model.predict_proba(X_all)\n",
    "        df['confidence'] = np.max(probs, axis=1)\n",
    "\n",
    "        df['prediction'] = model.predict(X_all)\n",
    "\n",
    "        al_history.append({\"num_labeled\": len(labeled),\n",
    "                        \"labeled\": labeled,\n",
    "                        \"model\": model,\n",
    "                        \"accuracy\": accuracy_score(y_true=y_test,y_pred=model.predict(X_test)),\n",
    "                        \"f1\": f1_score(y_true=y_test,y_pred=model.predict(X_test), average='macro')\n",
    "                       })\n",
    "\n",
    "    return al_history"
   ]
  },
  {
   "cell_type": "code",
   "execution_count": 58,
   "metadata": {},
   "outputs": [],
   "source": [
    "def select_next_batch_func(df, batch_size):\n",
    "    df = df.sort_values(by=['used','confidence'], ascending=[True,True])\n",
    "    next_labels = df[:batch_size]\n",
    "    return next_labels"
   ]
  },
  {
   "cell_type": "code",
   "execution_count": 59,
   "metadata": {},
   "outputs": [
    {
     "name": "stdout",
     "output_type": "stream",
     "text": [
      "fitting a model for 50 labeled instances...\n"
     ]
    },
    {
     "name": "stderr",
     "output_type": "stream",
     "text": [
      "C:\\ProgramData\\Anaconda3\\lib\\site-packages\\sklearn\\metrics\\classification.py:1135: UndefinedMetricWarning: F-score is ill-defined and being set to 0.0 in labels with no predicted samples.\n",
      "  'precision', 'predicted', average, warn_for)\n"
     ]
    },
    {
     "name": "stdout",
     "output_type": "stream",
     "text": [
      "fitting a model for 60 labeled instances...\n",
      "fitting a model for 70 labeled instances...\n",
      "fitting a model for 80 labeled instances...\n",
      "fitting a model for 90 labeled instances...\n",
      "fitting a model for 100 labeled instances...\n",
      "fitting a model for 110 labeled instances...\n",
      "fitting a model for 120 labeled instances...\n",
      "fitting a model for 130 labeled instances...\n",
      "fitting a model for 140 labeled instances...\n",
      "fitting a model for 150 labeled instances...\n",
      "fitting a model for 160 labeled instances...\n",
      "fitting a model for 170 labeled instances...\n",
      "fitting a model for 180 labeled instances...\n",
      "fitting a model for 190 labeled instances...\n",
      "fitting a model for 200 labeled instances...\n",
      "fitting a model for 210 labeled instances...\n",
      "fitting a model for 220 labeled instances...\n",
      "fitting a model for 230 labeled instances...\n",
      "fitting a model for 240 labeled instances...\n",
      "fitting a model for 250 labeled instances...\n",
      "fitting a model for 260 labeled instances...\n",
      "fitting a model for 270 labeled instances...\n",
      "fitting a model for 280 labeled instances...\n",
      "fitting a model for 290 labeled instances...\n",
      "fitting a model for 300 labeled instances...\n",
      "fitting a model for 310 labeled instances...\n",
      "fitting a model for 320 labeled instances...\n",
      "fitting a model for 330 labeled instances...\n",
      "fitting a model for 340 labeled instances...\n",
      "fitting a model for 350 labeled instances...\n",
      "fitting a model for 360 labeled instances...\n",
      "fitting a model for 370 labeled instances...\n",
      "fitting a model for 380 labeled instances...\n",
      "fitting a model for 390 labeled instances...\n",
      "fitting a model for 400 labeled instances...\n",
      "fitting a model for 410 labeled instances...\n",
      "fitting a model for 420 labeled instances...\n",
      "fitting a model for 430 labeled instances...\n",
      "fitting a model for 440 labeled instances...\n",
      "fitting a model for 450 labeled instances...\n",
      "fitting a model for 460 labeled instances...\n",
      "fitting a model for 470 labeled instances...\n",
      "fitting a model for 480 labeled instances...\n",
      "fitting a model for 490 labeled instances...\n",
      "fitting a model for 500 labeled instances...\n",
      "fitting a model for 510 labeled instances...\n",
      "fitting a model for 520 labeled instances...\n",
      "fitting a model for 530 labeled instances...\n",
      "fitting a model for 540 labeled instances...\n",
      "fitting a model for 550 labeled instances...\n",
      "fitting a model for 560 labeled instances...\n",
      "fitting a model for 570 labeled instances...\n",
      "fitting a model for 580 labeled instances...\n",
      "fitting a model for 590 labeled instances...\n",
      "fitting a model for 600 labeled instances...\n",
      "fitting a model for 610 labeled instances...\n",
      "fitting a model for 620 labeled instances...\n",
      "fitting a model for 630 labeled instances...\n",
      "fitting a model for 640 labeled instances...\n",
      "fitting a model for 650 labeled instances...\n",
      "fitting a model for 660 labeled instances...\n",
      "fitting a model for 670 labeled instances...\n",
      "fitting a model for 680 labeled instances...\n",
      "fitting a model for 690 labeled instances...\n",
      "fitting a model for 700 labeled instances...\n",
      "fitting a model for 710 labeled instances...\n",
      "fitting a model for 720 labeled instances...\n",
      "fitting a model for 730 labeled instances...\n",
      "fitting a model for 740 labeled instances...\n",
      "fitting a model for 750 labeled instances...\n",
      "fitting a model for 760 labeled instances...\n",
      "fitting a model for 770 labeled instances...\n",
      "fitting a model for 780 labeled instances...\n",
      "fitting a model for 790 labeled instances...\n",
      "fitting a model for 800 labeled instances...\n",
      "fitting a model for 810 labeled instances...\n",
      "fitting a model for 820 labeled instances...\n",
      "fitting a model for 830 labeled instances...\n",
      "fitting a model for 840 labeled instances...\n",
      "fitting a model for 850 labeled instances...\n",
      "fitting a model for 860 labeled instances...\n",
      "fitting a model for 870 labeled instances...\n",
      "fitting a model for 880 labeled instances...\n",
      "fitting a model for 890 labeled instances...\n",
      "fitting a model for 900 labeled instances...\n",
      "fitting a model for 910 labeled instances...\n",
      "fitting a model for 920 labeled instances...\n",
      "fitting a model for 930 labeled instances...\n",
      "fitting a model for 940 labeled instances...\n",
      "fitting a model for 950 labeled instances...\n",
      "fitting a model for 960 labeled instances...\n",
      "fitting a model for 970 labeled instances...\n",
      "fitting a model for 980 labeled instances...\n",
      "fitting a model for 990 labeled instances...\n",
      "fitting a model for 1000 labeled instances...\n",
      "fitting a model for 1010 labeled instances...\n",
      "fitting a model for 1020 labeled instances...\n",
      "fitting a model for 1030 labeled instances...\n",
      "fitting a model for 1040 labeled instances...\n",
      "fitting a model for 1050 labeled instances...\n",
      "fitting a model for 1060 labeled instances...\n",
      "fitting a model for 1070 labeled instances...\n",
      "fitting a model for 1080 labeled instances...\n",
      "fitting a model for 1090 labeled instances...\n",
      "fitting a model for 1100 labeled instances...\n",
      "fitting a model for 1110 labeled instances...\n",
      "fitting a model for 1120 labeled instances...\n",
      "fitting a model for 1130 labeled instances...\n",
      "fitting a model for 1140 labeled instances...\n",
      "fitting a model for 1150 labeled instances...\n",
      "fitting a model for 1160 labeled instances...\n",
      "fitting a model for 1170 labeled instances...\n",
      "fitting a model for 1180 labeled instances...\n",
      "fitting a model for 1190 labeled instances...\n",
      "fitting a model for 1200 labeled instances...\n",
      "fitting a model for 1210 labeled instances...\n",
      "fitting a model for 1220 labeled instances...\n",
      "fitting a model for 1230 labeled instances...\n",
      "fitting a model for 1240 labeled instances...\n",
      "fitting a model for 1250 labeled instances...\n",
      "fitting a model for 1260 labeled instances...\n",
      "fitting a model for 1270 labeled instances...\n",
      "fitting a model for 1280 labeled instances...\n",
      "fitting a model for 1290 labeled instances...\n",
      "fitting a model for 1300 labeled instances...\n",
      "fitting a model for 1310 labeled instances...\n",
      "fitting a model for 1320 labeled instances...\n",
      "fitting a model for 1330 labeled instances...\n",
      "fitting a model for 1340 labeled instances...\n",
      "fitting a model for 1350 labeled instances...\n",
      "fitting a model for 1360 labeled instances...\n",
      "fitting a model for 1370 labeled instances...\n",
      "fitting a model for 1380 labeled instances...\n",
      "fitting a model for 1390 labeled instances...\n",
      "fitting a model for 1400 labeled instances...\n",
      "fitting a model for 1410 labeled instances...\n",
      "fitting a model for 1420 labeled instances...\n",
      "fitting a model for 1430 labeled instances...\n",
      "fitting a model for 1440 labeled instances...\n",
      "fitting a model for 1450 labeled instances...\n",
      "fitting a model for 1460 labeled instances...\n",
      "fitting a model for 1470 labeled instances...\n",
      "fitting a model for 1480 labeled instances...\n",
      "fitting a model for 1490 labeled instances...\n",
      "fitting a model for 1500 labeled instances...\n",
      "fitting a model for 1510 labeled instances...\n",
      "fitting a model for 1520 labeled instances...\n",
      "fitting a model for 1530 labeled instances...\n",
      "fitting a model for 1540 labeled instances...\n",
      "fitting a model for 1550 labeled instances...\n"
     ]
    }
   ],
   "source": [
    "num_samples_in_active_learning_batch = [50] + [10]*150\n",
    "al_history_50_10 = run_active_learner(df, model, num_samples_in_active_learning_batch, select_next_batch_func)"
   ]
  },
  {
   "cell_type": "code",
   "execution_count": 60,
   "metadata": {},
   "outputs": [
    {
     "data": {
      "text/plain": [
       "[<matplotlib.lines.Line2D at 0x2a80ff105f8>]"
      ]
     },
     "execution_count": 60,
     "metadata": {},
     "output_type": "execute_result"
    },
    {
     "data": {
      "image/png": "[encoded data removed]",
      "text/plain": [
       "<matplotlib.figure.Figure at 0x2a80fef3198>"
      ]
     },
     "metadata": {},
     "output_type": "display_data"
    }
   ],
   "source": [
    "f1 = [i['f1'] for i in history]\n",
    "num_labels = [i['num_labels'] for i in history]\n",
    "plt.plot(num_labels, f1, '-x')\n",
    "\n",
    "plt.plot([v['num_labeled'] for v in al_history_50_10], [v['f1'] for v in al_history_50_10], '-k')"
   ]
  },
  {
   "cell_type": "code",
   "execution_count": null,
   "metadata": {},
   "outputs": [],
   "source": []
  },
  {
   "cell_type": "code",
   "execution_count": 88,
   "metadata": {},
   "outputs": [],
   "source": [
    "df['X'] = df['text']"
   ]
  },
  {
   "cell_type": "code",
   "execution_count": 105,
   "metadata": {},
   "outputs": [],
   "source": [
    "TH = 0.8\n",
    "\n",
    "def run_active_learner(df, model, num_samples_in_active_learning_batch, select_next_batch_func, bootstrap):\n",
    "    al_history = []\n",
    "    labeled = pd.DataFrame([])\n",
    "\n",
    "    # We first mark all data points as unused. We'll update this column whenever we already used a data point.\n",
    "    df['used']= False\n",
    "    df['confidence'] = 0\n",
    "\n",
    "    df = df.sample(frac=1)\n",
    "    X_all = np.array(df['X'].tolist())\n",
    "\n",
    "    for current_batch_size in num_samples_in_active_learning_batch:\n",
    "        next_labels = select_next_batch_func(df, current_batch_size)\n",
    "\n",
    "        next_label_indices = next_labels.index\n",
    "        df.loc[next_label_indices, 'used'] = True\n",
    "\n",
    "        labeled = labeled.append(next_labels)\n",
    "        next_labels['step'] = len(labeled)\n",
    "\n",
    "        X_labeled = np.array(labeled['X'].tolist())\n",
    "\n",
    "        print('fitting a model for {} labeled instances...'.format(len(labeled)))\n",
    "\n",
    "        model.fit(X_labeled, y=labeled['y'].values)\n",
    "\n",
    "        probs = model.predict_proba(X_all)\n",
    "        df['confidence'] = np.max(probs, axis=1)\n",
    "        df['prediction'] = model.predict(X_all)\n",
    "\n",
    "        if bootstrap is not None:\n",
    "            for i in range(bootstrap):\n",
    "                confident_instances = df['confidence']>TH\n",
    "                model.fit(df.loc[confident_instances]['X'],\n",
    "                          y=df.loc[confident_instances]['prediction'])\n",
    "                probs = model.predict_proba(X_all)\n",
    "                df['confidence'] = np.max(probs, axis=1)\n",
    "                df['prediction'] = model.predict(X_all)\n",
    "\n",
    "        al_history.append({\"num_labeled\": len(labeled),\n",
    "                        \"labeled\": labeled,\n",
    "                        \"model\": model,\n",
    "                        \"accuracy\": accuracy_score(y_true=y_test,y_pred=model.predict(X_test)),\n",
    "                        \"f1\": f1_score(y_true=y_test,y_pred=model.predict(X_test), average='macro')\n",
    "                       })\n",
    "\n",
    "    return al_history"
   ]
  },
  {
   "cell_type": "code",
   "execution_count": 106,
   "metadata": {
    "scrolled": false
   },
   "outputs": [
    {
     "name": "stdout",
     "output_type": "stream",
     "text": [
      "fitting a model for 100 labeled instances...\n"
     ]
    },
    {
     "name": "stderr",
     "output_type": "stream",
     "text": [
      "C:\\ProgramData\\Anaconda3\\lib\\site-packages\\sklearn\\naive_bayes.py:461: RuntimeWarning: divide by zero encountered in log\n",
      "  self.class_log_prior_ = (np.log(self.class_count_) -\n",
      "C:\\ProgramData\\Anaconda3\\lib\\site-packages\\sklearn\\metrics\\classification.py:1135: UndefinedMetricWarning: F-score is ill-defined and being set to 0.0 in labels with no predicted samples.\n",
      "  'precision', 'predicted', average, warn_for)\n"
     ]
    },
    {
     "name": "stdout",
     "output_type": "stream",
     "text": [
      "fitting a model for 110 labeled instances...\n"
     ]
    },
    {
     "name": "stderr",
     "output_type": "stream",
     "text": [
      "C:\\ProgramData\\Anaconda3\\lib\\site-packages\\sklearn\\naive_bayes.py:461: RuntimeWarning: divide by zero encountered in log\n",
      "  self.class_log_prior_ = (np.log(self.class_count_) -\n",
      "C:\\ProgramData\\Anaconda3\\lib\\site-packages\\sklearn\\metrics\\classification.py:1135: UndefinedMetricWarning: F-score is ill-defined and being set to 0.0 in labels with no predicted samples.\n",
      "  'precision', 'predicted', average, warn_for)\n"
     ]
    },
    {
     "name": "stdout",
     "output_type": "stream",
     "text": [
      "fitting a model for 120 labeled instances...\n"
     ]
    },
    {
     "name": "stderr",
     "output_type": "stream",
     "text": [
      "C:\\ProgramData\\Anaconda3\\lib\\site-packages\\sklearn\\naive_bayes.py:461: RuntimeWarning: divide by zero encountered in log\n",
      "  self.class_log_prior_ = (np.log(self.class_count_) -\n",
      "C:\\ProgramData\\Anaconda3\\lib\\site-packages\\sklearn\\metrics\\classification.py:1135: UndefinedMetricWarning: F-score is ill-defined and being set to 0.0 in labels with no predicted samples.\n",
      "  'precision', 'predicted', average, warn_for)\n"
     ]
    },
    {
     "name": "stdout",
     "output_type": "stream",
     "text": [
      "fitting a model for 130 labeled instances...\n"
     ]
    },
    {
     "name": "stderr",
     "output_type": "stream",
     "text": [
      "C:\\ProgramData\\Anaconda3\\lib\\site-packages\\sklearn\\naive_bayes.py:461: RuntimeWarning: divide by zero encountered in log\n",
      "  self.class_log_prior_ = (np.log(self.class_count_) -\n",
      "C:\\ProgramData\\Anaconda3\\lib\\site-packages\\sklearn\\metrics\\classification.py:1135: UndefinedMetricWarning: F-score is ill-defined and being set to 0.0 in labels with no predicted samples.\n",
      "  'precision', 'predicted', average, warn_for)\n"
     ]
    },
    {
     "name": "stdout",
     "output_type": "stream",
     "text": [
      "fitting a model for 140 labeled instances...\n"
     ]
    },
    {
     "name": "stderr",
     "output_type": "stream",
     "text": [
      "C:\\ProgramData\\Anaconda3\\lib\\site-packages\\sklearn\\naive_bayes.py:461: RuntimeWarning: divide by zero encountered in log\n",
      "  self.class_log_prior_ = (np.log(self.class_count_) -\n",
      "C:\\ProgramData\\Anaconda3\\lib\\site-packages\\sklearn\\metrics\\classification.py:1135: UndefinedMetricWarning: F-score is ill-defined and being set to 0.0 in labels with no predicted samples.\n",
      "  'precision', 'predicted', average, warn_for)\n"
     ]
    },
    {
     "name": "stdout",
     "output_type": "stream",
     "text": [
      "fitting a model for 150 labeled instances...\n"
     ]
    },
    {
     "name": "stderr",
     "output_type": "stream",
     "text": [
      "C:\\ProgramData\\Anaconda3\\lib\\site-packages\\sklearn\\naive_bayes.py:461: RuntimeWarning: divide by zero encountered in log\n",
      "  self.class_log_prior_ = (np.log(self.class_count_) -\n",
      "C:\\ProgramData\\Anaconda3\\lib\\site-packages\\sklearn\\metrics\\classification.py:1135: UndefinedMetricWarning: F-score is ill-defined and being set to 0.0 in labels with no predicted samples.\n",
      "  'precision', 'predicted', average, warn_for)\n"
     ]
    },
    {
     "name": "stdout",
     "output_type": "stream",
     "text": [
      "fitting a model for 160 labeled instances...\n"
     ]
    },
    {
     "name": "stderr",
     "output_type": "stream",
     "text": [
      "C:\\ProgramData\\Anaconda3\\lib\\site-packages\\sklearn\\naive_bayes.py:461: RuntimeWarning: divide by zero encountered in log\n",
      "  self.class_log_prior_ = (np.log(self.class_count_) -\n",
      "C:\\ProgramData\\Anaconda3\\lib\\site-packages\\sklearn\\metrics\\classification.py:1135: UndefinedMetricWarning: F-score is ill-defined and being set to 0.0 in labels with no predicted samples.\n",
      "  'precision', 'predicted', average, warn_for)\n"
     ]
    },
    {
     "name": "stdout",
     "output_type": "stream",
     "text": [
      "fitting a model for 170 labeled instances...\n"
     ]
    },
    {
     "name": "stderr",
     "output_type": "stream",
     "text": [
      "C:\\ProgramData\\Anaconda3\\lib\\site-packages\\sklearn\\naive_bayes.py:461: RuntimeWarning: divide by zero encountered in log\n",
      "  self.class_log_prior_ = (np.log(self.class_count_) -\n",
      "C:\\ProgramData\\Anaconda3\\lib\\site-packages\\sklearn\\metrics\\classification.py:1135: UndefinedMetricWarning: F-score is ill-defined and being set to 0.0 in labels with no predicted samples.\n",
      "  'precision', 'predicted', average, warn_for)\n"
     ]
    },
    {
     "name": "stdout",
     "output_type": "stream",
     "text": [
      "fitting a model for 180 labeled instances...\n"
     ]
    },
    {
     "name": "stderr",
     "output_type": "stream",
     "text": [
      "C:\\ProgramData\\Anaconda3\\lib\\site-packages\\sklearn\\naive_bayes.py:461: RuntimeWarning: divide by zero encountered in log\n",
      "  self.class_log_prior_ = (np.log(self.class_count_) -\n",
      "C:\\ProgramData\\Anaconda3\\lib\\site-packages\\sklearn\\metrics\\classification.py:1135: UndefinedMetricWarning: F-score is ill-defined and being set to 0.0 in labels with no predicted samples.\n",
      "  'precision', 'predicted', average, warn_for)\n"
     ]
    },
    {
     "name": "stdout",
     "output_type": "stream",
     "text": [
      "fitting a model for 190 labeled instances...\n"
     ]
    },
    {
     "name": "stderr",
     "output_type": "stream",
     "text": [
      "C:\\ProgramData\\Anaconda3\\lib\\site-packages\\sklearn\\naive_bayes.py:461: RuntimeWarning: divide by zero encountered in log\n",
      "  self.class_log_prior_ = (np.log(self.class_count_) -\n",
      "C:\\ProgramData\\Anaconda3\\lib\\site-packages\\sklearn\\metrics\\classification.py:1135: UndefinedMetricWarning: F-score is ill-defined and being set to 0.0 in labels with no predicted samples.\n",
      "  'precision', 'predicted', average, warn_for)\n"
     ]
    },
    {
     "name": "stdout",
     "output_type": "stream",
     "text": [
      "fitting a model for 200 labeled instances...\n"
     ]
    },
    {
     "name": "stderr",
     "output_type": "stream",
     "text": [
      "C:\\ProgramData\\Anaconda3\\lib\\site-packages\\sklearn\\naive_bayes.py:461: RuntimeWarning: divide by zero encountered in log\n",
      "  self.class_log_prior_ = (np.log(self.class_count_) -\n",
      "C:\\ProgramData\\Anaconda3\\lib\\site-packages\\sklearn\\metrics\\classification.py:1135: UndefinedMetricWarning: F-score is ill-defined and being set to 0.0 in labels with no predicted samples.\n",
      "  'precision', 'predicted', average, warn_for)\n"
     ]
    },
    {
     "name": "stdout",
     "output_type": "stream",
     "text": [
      "fitting a model for 210 labeled instances...\n"
     ]
    },
    {
     "name": "stderr",
     "output_type": "stream",
     "text": [
      "C:\\ProgramData\\Anaconda3\\lib\\site-packages\\sklearn\\naive_bayes.py:461: RuntimeWarning: divide by zero encountered in log\n",
      "  self.class_log_prior_ = (np.log(self.class_count_) -\n",
      "C:\\ProgramData\\Anaconda3\\lib\\site-packages\\sklearn\\metrics\\classification.py:1135: UndefinedMetricWarning: F-score is ill-defined and being set to 0.0 in labels with no predicted samples.\n",
      "  'precision', 'predicted', average, warn_for)\n"
     ]
    },
    {
     "name": "stdout",
     "output_type": "stream",
     "text": [
      "fitting a model for 220 labeled instances...\n"
     ]
    },
    {
     "name": "stderr",
     "output_type": "stream",
     "text": [
      "C:\\ProgramData\\Anaconda3\\lib\\site-packages\\sklearn\\naive_bayes.py:461: RuntimeWarning: divide by zero encountered in log\n",
      "  self.class_log_prior_ = (np.log(self.class_count_) -\n",
      "C:\\ProgramData\\Anaconda3\\lib\\site-packages\\sklearn\\metrics\\classification.py:1135: UndefinedMetricWarning: F-score is ill-defined and being set to 0.0 in labels with no predicted samples.\n",
      "  'precision', 'predicted', average, warn_for)\n"
     ]
    },
    {
     "name": "stdout",
     "output_type": "stream",
     "text": [
      "fitting a model for 230 labeled instances...\n"
     ]
    },
    {
     "name": "stderr",
     "output_type": "stream",
     "text": [
      "C:\\ProgramData\\Anaconda3\\lib\\site-packages\\sklearn\\naive_bayes.py:461: RuntimeWarning: divide by zero encountered in log\n",
      "  self.class_log_prior_ = (np.log(self.class_count_) -\n",
      "C:\\ProgramData\\Anaconda3\\lib\\site-packages\\sklearn\\metrics\\classification.py:1135: UndefinedMetricWarning: F-score is ill-defined and being set to 0.0 in labels with no predicted samples.\n",
      "  'precision', 'predicted', average, warn_for)\n"
     ]
    },
    {
     "name": "stdout",
     "output_type": "stream",
     "text": [
      "fitting a model for 240 labeled instances...\n"
     ]
    },
    {
     "name": "stderr",
     "output_type": "stream",
     "text": [
      "C:\\ProgramData\\Anaconda3\\lib\\site-packages\\sklearn\\naive_bayes.py:461: RuntimeWarning: divide by zero encountered in log\n",
      "  self.class_log_prior_ = (np.log(self.class_count_) -\n",
      "C:\\ProgramData\\Anaconda3\\lib\\site-packages\\sklearn\\metrics\\classification.py:1135: UndefinedMetricWarning: F-score is ill-defined and being set to 0.0 in labels with no predicted samples.\n",
      "  'precision', 'predicted', average, warn_for)\n"
     ]
    },
    {
     "name": "stdout",
     "output_type": "stream",
     "text": [
      "fitting a model for 250 labeled instances...\n"
     ]
    },
    {
     "name": "stderr",
     "output_type": "stream",
     "text": [
      "C:\\ProgramData\\Anaconda3\\lib\\site-packages\\sklearn\\naive_bayes.py:461: RuntimeWarning: divide by zero encountered in log\n",
      "  self.class_log_prior_ = (np.log(self.class_count_) -\n",
      "C:\\ProgramData\\Anaconda3\\lib\\site-packages\\sklearn\\metrics\\classification.py:1135: UndefinedMetricWarning: F-score is ill-defined and being set to 0.0 in labels with no predicted samples.\n",
      "  'precision', 'predicted', average, warn_for)\n"
     ]
    },
    {
     "name": "stdout",
     "output_type": "stream",
     "text": [
      "fitting a model for 260 labeled instances...\n"
     ]
    },
    {
     "name": "stderr",
     "output_type": "stream",
     "text": [
      "C:\\ProgramData\\Anaconda3\\lib\\site-packages\\sklearn\\naive_bayes.py:461: RuntimeWarning: divide by zero encountered in log\n",
      "  self.class_log_prior_ = (np.log(self.class_count_) -\n",
      "C:\\ProgramData\\Anaconda3\\lib\\site-packages\\sklearn\\metrics\\classification.py:1135: UndefinedMetricWarning: F-score is ill-defined and being set to 0.0 in labels with no predicted samples.\n",
      "  'precision', 'predicted', average, warn_for)\n"
     ]
    },
    {
     "name": "stdout",
     "output_type": "stream",
     "text": [
      "fitting a model for 270 labeled instances...\n"
     ]
    },
    {
     "name": "stderr",
     "output_type": "stream",
     "text": [
      "C:\\ProgramData\\Anaconda3\\lib\\site-packages\\sklearn\\naive_bayes.py:461: RuntimeWarning: divide by zero encountered in log\n",
      "  self.class_log_prior_ = (np.log(self.class_count_) -\n",
      "C:\\ProgramData\\Anaconda3\\lib\\site-packages\\sklearn\\metrics\\classification.py:1135: UndefinedMetricWarning: F-score is ill-defined and being set to 0.0 in labels with no predicted samples.\n",
      "  'precision', 'predicted', average, warn_for)\n"
     ]
    },
    {
     "name": "stdout",
     "output_type": "stream",
     "text": [
      "fitting a model for 280 labeled instances...\n"
     ]
    },
    {
     "name": "stderr",
     "output_type": "stream",
     "text": [
      "C:\\ProgramData\\Anaconda3\\lib\\site-packages\\sklearn\\naive_bayes.py:461: RuntimeWarning: divide by zero encountered in log\n",
      "  self.class_log_prior_ = (np.log(self.class_count_) -\n",
      "C:\\ProgramData\\Anaconda3\\lib\\site-packages\\sklearn\\metrics\\classification.py:1135: UndefinedMetricWarning: F-score is ill-defined and being set to 0.0 in labels with no predicted samples.\n",
      "  'precision', 'predicted', average, warn_for)\n"
     ]
    },
    {
     "name": "stdout",
     "output_type": "stream",
     "text": [
      "fitting a model for 290 labeled instances...\n"
     ]
    },
    {
     "name": "stderr",
     "output_type": "stream",
     "text": [
      "C:\\ProgramData\\Anaconda3\\lib\\site-packages\\sklearn\\naive_bayes.py:461: RuntimeWarning: divide by zero encountered in log\n",
      "  self.class_log_prior_ = (np.log(self.class_count_) -\n",
      "C:\\ProgramData\\Anaconda3\\lib\\site-packages\\sklearn\\metrics\\classification.py:1135: UndefinedMetricWarning: F-score is ill-defined and being set to 0.0 in labels with no predicted samples.\n",
      "  'precision', 'predicted', average, warn_for)\n"
     ]
    },
    {
     "name": "stdout",
     "output_type": "stream",
     "text": [
      "fitting a model for 300 labeled instances...\n"
     ]
    },
    {
     "name": "stderr",
     "output_type": "stream",
     "text": [
      "C:\\ProgramData\\Anaconda3\\lib\\site-packages\\sklearn\\metrics\\classification.py:1135: UndefinedMetricWarning: F-score is ill-defined and being set to 0.0 in labels with no predicted samples.\n",
      "  'precision', 'predicted', average, warn_for)\n"
     ]
    },
    {
     "name": "stdout",
     "output_type": "stream",
     "text": [
      "fitting a model for 310 labeled instances...\n",
      "fitting a model for 320 labeled instances...\n",
      "fitting a model for 330 labeled instances...\n",
      "fitting a model for 340 labeled instances...\n",
      "fitting a model for 350 labeled instances...\n",
      "fitting a model for 360 labeled instances...\n",
      "fitting a model for 370 labeled instances...\n",
      "fitting a model for 380 labeled instances...\n",
      "fitting a model for 390 labeled instances...\n",
      "fitting a model for 400 labeled instances...\n",
      "fitting a model for 410 labeled instances...\n",
      "fitting a model for 420 labeled instances...\n",
      "fitting a model for 430 labeled instances...\n",
      "fitting a model for 440 labeled instances...\n",
      "fitting a model for 450 labeled instances...\n",
      "fitting a model for 460 labeled instances...\n",
      "fitting a model for 470 labeled instances...\n",
      "fitting a model for 480 labeled instances...\n",
      "fitting a model for 490 labeled instances...\n",
      "fitting a model for 500 labeled instances...\n",
      "fitting a model for 510 labeled instances...\n",
      "fitting a model for 520 labeled instances...\n",
      "fitting a model for 530 labeled instances...\n",
      "fitting a model for 540 labeled instances...\n",
      "fitting a model for 550 labeled instances...\n",
      "fitting a model for 560 labeled instances...\n",
      "fitting a model for 570 labeled instances...\n",
      "fitting a model for 580 labeled instances...\n",
      "fitting a model for 590 labeled instances...\n",
      "fitting a model for 600 labeled instances...\n"
     ]
    }
   ],
   "source": [
    "num_samples_in_active_learning_batch = [100] + [10]*50\n",
    "al_history_50_10_bootstrap_1 = run_active_learner(df, model, num_samples_in_active_learning_batch, select_next_batch_func, bootstrap=1)"
   ]
  },
  {
   "cell_type": "code",
   "execution_count": 107,
   "metadata": {},
   "outputs": [
    {
     "data": {
      "text/plain": [
       "[<matplotlib.lines.Line2D at 0x2a815939cf8>]"
      ]
     },
     "execution_count": 107,
     "metadata": {},
     "output_type": "execute_result"
    },
    {
     "data": {
      "image/png": "[encoded data removed]",
      "text/plain": [
       "<matplotlib.figure.Figure at 0x2a814776d68>"
      ]
     },
     "metadata": {},
     "output_type": "display_data"
    }
   ],
   "source": [
    "f1 = [i['f1'] for i in history]\n",
    "num_labels = [i['num_labels'] for i in history]\n",
    "plt.plot(num_labels, f1, '-x')\n",
    "\n",
    "plt.plot([v['num_labeled'] for v in al_history_50_10], [v['f1'] for v in al_history_50_10], '-k')\n",
    "plt.plot([v['num_labeled'] for v in al_history_50_10_bootstrap_1], [v['f1'] for v in al_history_50_10_bootstrap_1], '-r')"
   ]
  },
  {
   "cell_type": "code",
   "execution_count": null,
   "metadata": {},
   "outputs": [],
   "source": []
  }
 ],
 "metadata": {
  "kernelspec": {
   "display_name": "Python 3",
   "language": "python",
   "name": "python3"
  },
  "language_info": {
   "codemirror_mode": {
    "name": "ipython",
    "version": 3
   },
   "file_extension": ".py",
   "mimetype": "text/x-python",
   "name": "python",
   "nbconvert_exporter": "python",
   "pygments_lexer": "ipython3",
   "version": "3.6.1"
  }
 },
 "nbformat": 4,
 "nbformat_minor": 2
}
